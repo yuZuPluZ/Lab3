{
  "nbformat": 4,
  "nbformat_minor": 0,
  "metadata": {
    "colab": {
      "provenance": [],
      "toc_visible": true,
      "include_colab_link": true
    },
    "kernelspec": {
      "name": "python3",
      "display_name": "Python 3"
    },
    "language_info": {
      "name": "python"
    }
  },
  "cells": [
    {
      "cell_type": "markdown",
      "metadata": {
        "id": "view-in-github",
        "colab_type": "text"
      },
      "source": [
        "<a href=\"https://colab.research.google.com/github/yuZuPluZ/Lab3/blob/main/Lab3.ipynb\" target=\"_parent\"><img src=\"https://colab.research.google.com/assets/colab-badge.svg\" alt=\"Open In Colab\"/></a>"
      ]
    },
    {
      "cell_type": "markdown",
      "source": [
        "# Exercise 3\n",
        "\n",
        "3.1 จากข้อมูลใน List ให้หาผลบวกเฉพาะตัวเลขคู่ โดยใช้ While Loop\n",
        "\n",
        "list1 = [1, 2, 3, 4, 5, 6, 7, 8, 9, 11, 13]\n",
        "\n"
      ],
      "metadata": {
        "id": "8LZVzcOUVMor"
      }
    },
    {
      "cell_type": "code",
      "execution_count": null,
      "metadata": {
        "id": "2cTrxjMXUE2n",
        "colab": {
          "base_uri": "https://localhost:8080/"
        },
        "outputId": "e441293a-fd8d-43b8-e1b4-96ecaf851bda"
      },
      "outputs": [
        {
          "output_type": "stream",
          "name": "stdout",
          "text": [
            "20\n"
          ]
        }
      ],
      "source": [
        "list1 = [1, 2, 3, 4, 5, 6, 7, 8, 9, 11, 13]\n",
        "sum =0\n",
        "i =0\n",
        "while True:\n",
        "  if list1[i] % 2 == 0:\n",
        "    sum += list1[i]\n",
        "  i+=1\n",
        "  if i == len(list1):\n",
        "    break\n",
        "print(sum)\n",
        "\n",
        "\n"
      ]
    },
    {
      "cell_type": "markdown",
      "source": [
        "3.2 จากข้อมูลใน List ให้หาตัวเลขที่มีค่ามากที่สุดเป็นอันดับ 2 ใน List โดยใช้ While Loop\n",
        "\n",
        "list = [-5, 7, 10, 1, 2, 5, 8, 100]\n"
      ],
      "metadata": {
        "id": "uPvbrsO_Vimb"
      }
    },
    {
      "cell_type": "code",
      "source": [
        "list_of_numbers = [-5, 7, 10, 1, 2, 5, 8, 100]\n",
        "\n",
        "max1 = float('-inf')\n",
        "max2 = float('-inf')\n",
        "\n",
        "index = 0\n",
        "while index < len(list_of_numbers):\n",
        "    num = list_of_numbers[index]\n",
        "\n",
        "\n",
        "    if num > max1:\n",
        "        max2 = max1\n",
        "        max1 = num\n",
        "    elif num > max2 and num != max1:\n",
        "        max2 = num\n",
        "\n",
        "    index += 1\n",
        "\n",
        "print(max2)\n"
      ],
      "metadata": {
        "id": "iUeJ91zfVr1Z",
        "outputId": "db267025-8ae0-4ffc-f8dc-2e49dc65bcb1",
        "colab": {
          "base_uri": "https://localhost:8080/"
        }
      },
      "execution_count": 2,
      "outputs": [
        {
          "output_type": "stream",
          "name": "stdout",
          "text": [
            "10\n"
          ]
        }
      ]
    },
    {
      "cell_type": "markdown",
      "source": [
        "3.3 เขียนโปรแกรมรับค่า n แล้วคำนวณค่าต่อไปนี้\n",
        "\n",
        "$1/1^2 + 1/2^2 + 1/3^2 + 1/4^2 + 1/5^2 + … +  1/n^2$\n"
      ],
      "metadata": {
        "id": "udBZzWe9VsU7"
      }
    },
    {
      "cell_type": "code",
      "source": [
        "input = input(\"Enter a number : \")\n",
        "ans = 0\n",
        "for i in range(1,input+1):\n",
        "  ans += 1/(i**2)\n",
        "print(ans)"
      ],
      "metadata": {
        "id": "BBUl6R9ktMXk"
      },
      "execution_count": null,
      "outputs": []
    },
    {
      "cell_type": "markdown",
      "source": [
        "3.4 จากข้อมูลใน List ให้ตรวจสอบว่า ข้อมูลในลิสต์ s เรียงลำดับจากน้อยไปมากหรือไม่ ตอบเป็น True, False\n",
        "\n",
        "\t[1,2,3,4,5], [5,4,3,2,1]\n"
      ],
      "metadata": {
        "id": "o-6AnE5zWFJJ"
      }
    },
    {
      "cell_type": "code",
      "source": [],
      "metadata": {
        "id": "LYG2sGGgWNei"
      },
      "execution_count": null,
      "outputs": []
    },
    {
      "cell_type": "markdown",
      "source": [
        "3.5  ให้ x เป็นลิสต์เก็บคะแนน ต้องการปรับช่องที่มีค่าน้อยกว่า 30 ให้มีค่าเพิ่มอีก 10% แสดงผลลัพธ์ เป็น List\n",
        "\n",
        "\tx = [60, 70, 72, 65, 55, 43, 20, 90, 12]\n"
      ],
      "metadata": {
        "id": "Hv-fE32hWOBd"
      }
    },
    {
      "cell_type": "code",
      "source": [
        "x = [60, 70, 72, 65, 55, 43, 20, 90, 12]\n",
        "new_x =[]\n",
        "\n",
        "for i in x:\n",
        "  if i < 30:\n",
        "    new_score =i*1.1\n",
        "  else:\n",
        "    new_score = i\n",
        "  new_x.append(new_score)\n",
        "\n",
        "print(new_x)\n",
        "\n"
      ],
      "metadata": {
        "id": "BSFOJ_8GWTtL",
        "outputId": "e67c2eb7-df05-4599-a1e4-bccc2b8f3061",
        "colab": {
          "base_uri": "https://localhost:8080/"
        }
      },
      "execution_count": 27,
      "outputs": [
        {
          "output_type": "stream",
          "name": "stdout",
          "text": [
            "[60, 70, 72, 65, 55, 43, 22.0, 90, 13.200000000000001]\n"
          ]
        }
      ]
    },
    {
      "cell_type": "markdown",
      "source": [
        "3.6 ต้องการหาผลรวมของคะแนนที่เก็บในลิสต์ x โดยขอไม่รวมคะแนนที่น้อยสุดอันดับ 2\n",
        "\n",
        "\tx = [15, 80, 75, 62, 55, 43, 99, 67, 10]\n"
      ],
      "metadata": {
        "id": "IDw88nQbWUTw"
      }
    },
    {
      "cell_type": "code",
      "source": [],
      "metadata": {
        "id": "Aool1F22WZKI"
      },
      "execution_count": null,
      "outputs": []
    },
    {
      "cell_type": "markdown",
      "source": [
        "3.7 จากข้อมูลใน List ให้แสดง string ที่มีความยาวมากกว่า 2 และมีอักษรตัวแรกกับตัวสุดท้ายเหมือนกัน แสดงบรรทัดละ 1 ตัว\n",
        "\n",
        "\tlst = ['abba', 'a', 'aa', 'alcaza', 'python', 'stores', 'program', 'execute']\n"
      ],
      "metadata": {
        "id": "92oZ0IQdWZkF"
      }
    },
    {
      "cell_type": "code",
      "source": [
        "lst = ['abba', 'a', 'aa', 'alcaza', 'python', 'stores', 'program', 'execute']\n",
        "\n",
        "for i in lst:\n",
        "  if len(i) > 2 and i[0] == i[-1]:\n",
        "    print(i)"
      ],
      "metadata": {
        "id": "i3vr0x1vWiHH",
        "outputId": "913b10c0-a964-482a-b22e-8d2d59ca8cea",
        "colab": {
          "base_uri": "https://localhost:8080/"
        }
      },
      "execution_count": 24,
      "outputs": [
        {
          "output_type": "stream",
          "name": "stdout",
          "text": [
            "abba\n",
            "alcaza\n",
            "stores\n",
            "execute\n"
          ]
        }
      ]
    },
    {
      "cell_type": "markdown",
      "source": [
        "3.8 จากข้อมูลใน List ให้ลบข้อมูลที่มีซ้ำกันให้เหลือเพียงตัวเดียว ให้แสดงผลเป็น list เช่น\n",
        "\n",
        "[‘a’,’a’] => [‘a’]\n",
        "\n",
        "lst = ['a', 'a', 'b', 'a', 'b', 'c', 'd']\n"
      ],
      "metadata": {
        "id": "QicYHZbcWi8U"
      }
    },
    {
      "cell_type": "code",
      "source": [
        "lst = ['a', 'a', 'b', 'a', 'b', 'c', 'd']\n",
        "new_lst = []\n",
        "\n",
        "for i in lst:\n",
        "  if i not in new_lst:\n",
        "    new_lst.append(i)\n",
        "print(new_lst)\n"
      ],
      "metadata": {
        "id": "xtBw7zuxWEZ4",
        "colab": {
          "base_uri": "https://localhost:8080/"
        },
        "outputId": "ecd126dc-5d1d-4a8e-8b45-079f85024670"
      },
      "execution_count": 3,
      "outputs": [
        {
          "output_type": "stream",
          "name": "stdout",
          "text": [
            "['a', 'b', 'c', 'd']\n"
          ]
        }
      ]
    },
    {
      "cell_type": "markdown",
      "source": [
        "3.9 จากข้อมูลใน List ให้แสดงว่าแต่ละข้อมูลใน List มีจำนวนเท่าไร คือ มีซ้ำกันกี่ตัวใน List  ให้แสดงบรรทัดละตัว เช่น\n",
        "\n",
        "\t[1, 2, 3, 4, 1, 2, 3, 1, 2, 1]\n",
        "\t1 = 4\n",
        "\t2 = 3\n",
        "\t3 = 2\n",
        "\t4 = 1\n",
        "  \n",
        "\tlst = [1,2,3,4,5,1,2,3,4,1,2,3,1,2,1]"
      ],
      "metadata": {
        "id": "Dl6OEM9nWz8s"
      }
    },
    {
      "cell_type": "code",
      "source": [
        "lst = [1,2,3,4,5,1,2,3,4,1,2,3,1,2,1]\n",
        "\n",
        "\n",
        "\n",
        "c = {}\n",
        "\n",
        "for num in lst:\n",
        "    if num in c:\n",
        "        c[num] += 1\n",
        "    else:\n",
        "        c[num] = 1\n",
        "\n",
        "# แสดงผลลัพธ์\n",
        "for num, count in c.items():\n",
        "    print(f\"{num} = {count}\")"
      ],
      "metadata": {
        "id": "QzXKqRjUQMA2",
        "outputId": "24483ce1-3bfb-4e3f-bdb0-47a0c040c151",
        "colab": {
          "base_uri": "https://localhost:8080/"
        }
      },
      "execution_count": 23,
      "outputs": [
        {
          "output_type": "stream",
          "name": "stdout",
          "text": [
            "1 = 5\n",
            "2 = 4\n",
            "3 = 3\n",
            "4 = 2\n",
            "5 = 1\n"
          ]
        }
      ]
    },
    {
      "cell_type": "markdown",
      "source": [
        "1.\tเขียนโปรแกรมเพื่อหาผลบวกของอนุกรม 5+10+15+20+… จนถึง n เมื่อ n เป็นตัวเลขที่รับเข้ามาทางคีย์บอร์ด"
      ],
      "metadata": {
        "id": "GgbgWOV6W8Nn"
      }
    },
    {
      "cell_type": "code",
      "source": [
        "input = 4\n",
        "x = 5\n",
        "c=0\n",
        "for i in range(input):\n",
        "  c +=x\n",
        "  x +=5\n",
        "\n",
        "print(c)\n",
        "\n",
        "\n"
      ],
      "metadata": {
        "id": "9cCHZsLhXGKm",
        "colab": {
          "base_uri": "https://localhost:8080/"
        },
        "outputId": "7339277b-446f-44a9-f69d-e4b6ec1f5de7"
      },
      "execution_count": null,
      "outputs": [
        {
          "output_type": "stream",
          "name": "stdout",
          "text": [
            "75\n"
          ]
        }
      ]
    },
    {
      "cell_type": "markdown",
      "source": [
        "2.\tจงเขียนโปรแกรมที่จะหาตัวเลขระหว่าง 2000-3200 ที่หารด้วย 7 ลงตัว แต่หารด้วย 5 ไม่ลงตัว\n",
        "การแสดงผลให้แสดงตัวเลขและคั่นด้วยเครื่องหมาย , ในบรรทัดเดียว\n",
        "\n",
        "2002,2009,2016,2023,2037,2044,2051,2058,2072,2079,2086,2093,2107,2114,2121,2128,2142,2149,2156,2163,2177,2184,2191,2198,2212,2219,2226,2233,2247,2254,2261,2268,2282,2289,2296,2303,2317,2324,2331,2338,2352,2359,2366,2373,2387,2394,2401,2408,2422,2429,2436,2443,2457,2464,2471,2478,2492,2499,2506,2513,2527,2534,2541,2548,2562,2569,2576,2583,2597,2604,2611,2618,2632,2639,2646,2653,2667,2674,2681,2688,2702,2709,2716,2723,2737,2744,2751,2758,2772,2779,2786,2793,2807,2814,2821,2828,2842,2849,2856,2863,2877,2884,2891,2898,2912,2919,2926,2933,2947,2954,2961,2968,2982,2989,2996,3003,3017,3024,3031,3038,3052,3059,3066,3073,3087,3094,3101,3108,3122,3129,3136,3143,3157,3164,3171,3178,3192,3199,"
      ],
      "metadata": {
        "id": "aujapFNTXGsV"
      }
    },
    {
      "cell_type": "code",
      "source": [
        "\n",
        "for i in range(2000,3201):\n",
        "  if i % 7 == 0 and i % 5 != 0:\n",
        "    ans.append(i)\n",
        "    print(i, end=(\",\"))\n"
      ],
      "metadata": {
        "id": "L-kIF3-nXJqR",
        "colab": {
          "base_uri": "https://localhost:8080/"
        },
        "outputId": "37ba0f45-db39-483b-cebe-d9d869554c8a"
      },
      "execution_count": null,
      "outputs": [
        {
          "output_type": "stream",
          "name": "stdout",
          "text": [
            "2002,2009,2016,2023,2037,2044,2051,2058,2072,2079,2086,2093,2107,2114,2121,2128,2142,2149,2156,2163,2177,2184,2191,2198,2212,2219,2226,2233,2247,2254,2261,2268,2282,2289,2296,2303,2317,2324,2331,2338,2352,2359,2366,2373,2387,2394,2401,2408,2422,2429,2436,2443,2457,2464,2471,2478,2492,2499,2506,2513,2527,2534,2541,2548,2562,2569,2576,2583,2597,2604,2611,2618,2632,2639,2646,2653,2667,2674,2681,2688,2702,2709,2716,2723,2737,2744,2751,2758,2772,2779,2786,2793,2807,2814,2821,2828,2842,2849,2856,2863,2877,2884,2891,2898,2912,2919,2926,2933,2947,2954,2961,2968,2982,2989,2996,3003,3017,3024,3031,3038,3052,3059,3066,3073,3087,3094,3101,3108,3122,3129,3136,3143,3157,3164,3171,3178,3192,3199,"
          ]
        }
      ]
    },
    {
      "cell_type": "markdown",
      "source": [
        "3.\tจากข้อมูลใน List ต้องการนับว่า มีข้อมูลกี่คู่ในลิสต์ที่ตัวทางซ้ายมีค่ามากกว่าตัวทางขวา (ไม่จำเป็นต้องอยู่ติดกัน)\n",
        "\n",
        "x = [1, 5, 4, 2, 1]"
      ],
      "metadata": {
        "id": "FCZpmtuFXKUl"
      }
    },
    {
      "cell_type": "code",
      "source": [
        "x = [-1, -10, 5, 10, 3 , 7 , 7]\n",
        "c =0\n",
        "for i in range(len(x)):\n",
        "  for j in range(i+1,len(x)):\n",
        "    if (x[i] > x[j]):\n",
        "      c += 1\n",
        "print(c)"
      ],
      "metadata": {
        "id": "VBgfWEXuXjQH",
        "colab": {
          "base_uri": "https://localhost:8080/"
        },
        "outputId": "d5679b42-522d-455c-b361-0d32a38e8f09"
      },
      "execution_count": null,
      "outputs": [
        {
          "output_type": "stream",
          "name": "stdout",
          "text": [
            "5\n"
          ]
        }
      ]
    },
    {
      "cell_type": "markdown",
      "source": [
        "4.\tให้ตรวจสอบว่า String ที่รับเข้ามาผ่านคีย์บอร์ด เป็นตัวอักษรพิมพ์เล็ก หรือตัวอักษรพิมพ์ใหญ่ อย่างละกี่ตัว ตอบ 2 บรรทัด พิมพ์เล็ก 1 บรรทัด พิมพ์ใหญ่ 1 บรรทัด\n",
        "\n",
        "klfjslkgD;FGK;LSDKdl;gfk;\n",
        "=> 18,3"
      ],
      "metadata": {
        "id": "UAEC1_jdXjya"
      }
    },
    {
      "cell_type": "code",
      "source": [
        "input1 = \"ooOOADSDSDAaaa\"\n",
        "\n",
        "\n",
        "c_low = 0\n",
        "c_up = 0\n",
        "\n",
        "for i in input1:\n",
        "  if i.isupper():\n",
        "    c_up +=1\n",
        "  else:\n",
        "    c_low +=1\n",
        "print(f\"upper = {c_up}\")\n",
        "print(f\"lower = {c_low}\")"
      ],
      "metadata": {
        "id": "rSYwEhjEYY8N",
        "colab": {
          "base_uri": "https://localhost:8080/"
        },
        "outputId": "5b4a261c-aa8c-4a4d-d100-4dafa330ff33"
      },
      "execution_count": null,
      "outputs": [
        {
          "output_type": "stream",
          "name": "stdout",
          "text": [
            "upper = 9\n",
            "lower = 5\n"
          ]
        }
      ]
    },
    {
      "cell_type": "markdown",
      "source": [
        "5.\tจงเขียนโปรแกรมที่หาตัวเลขระหว่าง 1000 และ 3000 ที่ทุกหลักเป็นเลขคู่ (รวม 1000 และ 3000) โดยแสดงผลในรูปแบบตัวเลขคั่นด้วย comma\n",
        "\n",
        "2000,2002,2004,2006,2008,2020,2022,2024,2026,2028,2040,2042,2044,2046,2048,2060,2062,2064,2066,2068,2080,2082,2084,2086,2088,2200,2202,2204,2206,2208,2220,2222,2224,2226,2228,2240,2242,2244,2246,2248,2260,2262,2264,2266,2268,2280,2282,2284,2286,2288,2400,2402,2404,2406,2408,2420,2422,2424,2426,2428,2440,2442,2444,2446,2448,2460,2462,2464,2466,2468,2480,2482,2484,2486,2488,2600,2602,2604,2606,2608,2620,2622,2624,2626,2628,2640,2642,2644,2646,2648,2660,2662,2664,2666,2668,2680,2682,2684,2686,2688,2800,2802,2804,2806,2808,2820,2822,2824,2826,2828,2840,2842,2844,2846,2848,2860,2862,2864,2866,2868,2880,2882,2884,2886,2888,"
      ],
      "metadata": {
        "id": "lBtvmw_sYYX_"
      }
    },
    {
      "cell_type": "code",
      "source": [
        "\n",
        "\n",
        "for i in range(1000,3000):\n",
        "  for j in range(len(str(i))):\n",
        "    if int(str(i)[j]) % 2 != 0:\n",
        "      break\n",
        "  else:\n",
        "    print(i, end=(\",\"))\n",
        "\n"
      ],
      "metadata": {
        "id": "VvChTQMjYqYi",
        "colab": {
          "base_uri": "https://localhost:8080/"
        },
        "outputId": "5a57b29f-5275-4271-916f-507d8c0d5e7d"
      },
      "execution_count": null,
      "outputs": [
        {
          "output_type": "stream",
          "name": "stdout",
          "text": [
            "2000,2002,2004,2006,2008,2020,2022,2024,2026,2028,2040,2042,2044,2046,2048,2060,2062,2064,2066,2068,2080,2082,2084,2086,2088,2200,2202,2204,2206,2208,2220,2222,2224,2226,2228,2240,2242,2244,2246,2248,2260,2262,2264,2266,2268,2280,2282,2284,2286,2288,2400,2402,2404,2406,2408,2420,2422,2424,2426,2428,2440,2442,2444,2446,2448,2460,2462,2464,2466,2468,2480,2482,2484,2486,2488,2600,2602,2604,2606,2608,2620,2622,2624,2626,2628,2640,2642,2644,2646,2648,2660,2662,2664,2666,2668,2680,2682,2684,2686,2688,2800,2802,2804,2806,2808,2820,2822,2824,2826,2828,2840,2842,2844,2846,2848,2860,2862,2864,2866,2868,2880,2882,2884,2886,2888,"
          ]
        }
      ]
    },
    {
      "cell_type": "markdown",
      "source": [
        "6.\tในคณิตศาสตร์ ตัวหารร่วมมาก หรือ ห.ร.ม. (greatest common divisor: gcd) ของจำนวนเต็มสองจำนวนซึ่งไม่เป็นศูนย์พร้อมกัน คือจำนวนเต็มที่มากที่สุดที่หารทั้งสองจำนวนลงตัว\n",
        "จงหา ห.ร.ม. ของจำนวนเต็ม 2 จำนวนที่กำหนดให้\n",
        "ข้อมูลนำเข้า\n",
        "บรรทัดแรกเพียงบรรทัดเดียว ประกอบไปด้วยจำนวนเต็มบวกสองจำนวน a และ b มีค่าไม่เกิน 9999\n",
        "ข้อมูลส่งออก\n",
        "ในบรรทัดแรกของข้อมูลส่งออก ให้แสดงค่า ห.ร.ม. ของ a และ b\n",
        "เช่น \tInput : 12 14\t\tOutput : 2\n",
        "\tInput : 7 3\t\tOutput : 1\n",
        "\n",
        "678\n",
        "345\n",
        "=> 3"
      ],
      "metadata": {
        "id": "6TCedRC8YqyU"
      }
    },
    {
      "cell_type": "code",
      "source": [],
      "metadata": {
        "id": "yrD4p2Q6Y6qr"
      },
      "execution_count": null,
      "outputs": []
    },
    {
      "cell_type": "markdown",
      "source": [
        "7.\tจงเขียนโปรแกรมที่คำนวณค่าของ a+aa+aaa+aaaa เมื่อรับข้อมูลเป็นตัวเลข 1 หลัก\n",
        "\n",
        "Input : 9\n",
        "\n",
        "Output : 11106 (=9+99+999+9999)\n"
      ],
      "metadata": {
        "id": "DW9riUdiY7KK"
      }
    },
    {
      "cell_type": "code",
      "source": [
        "input = 3\n",
        "num =\"\"\n",
        "num2 =\"\"\n",
        "ans = 0\n",
        "x = \"\"\n",
        "\n",
        "if input <=9 and input >=0:\n",
        "  for i in range(4):\n",
        "        num += str(input)\n",
        "        if i > 0:\n",
        "            x = \"+\" + num\n",
        "        else:\n",
        "            x = num\n",
        "        num2 += x\n",
        "        ans += int(num)\n",
        "\n",
        "print(f\"{ans}(={num2})\")\n"
      ],
      "metadata": {
        "id": "iAZlPfC4Y-GG",
        "colab": {
          "base_uri": "https://localhost:8080/"
        },
        "outputId": "c8026eb3-d837-4efe-fb56-4b569bb92ae6"
      },
      "execution_count": null,
      "outputs": [
        {
          "output_type": "stream",
          "name": "stdout",
          "text": [
            "3702(=3+33+333+3333)\n"
          ]
        }
      ]
    },
    {
      "cell_type": "markdown",
      "source": [
        "8.\tแปลงเลขโรมัน เป็นเลขอารบิก เช่น MMMDCCXXIV = 3724 (ค้นหาวิธีทางทางอินเตอร์เน็ต)\n"
      ],
      "metadata": {
        "id": "G3jPCyruZAZY"
      }
    },
    {
      "cell_type": "code",
      "source": [],
      "metadata": {
        "id": "6RBWGF4IZGnc"
      },
      "execution_count": null,
      "outputs": []
    },
    {
      "cell_type": "markdown",
      "source": [
        "9.\tอนุกรม Fibonacci คือ อนุกรมที่ตัวที่ 3 เป็นต้นไปเกิดจาก 2 ตัวหน้าบวกกัน จงเขียนโปรแกรมแสดงอนุกรม\n",
        "เช่น ตั้งแต่ 0-1000 คือ 0, 1, 1, 2, 3, 5, 8, 13, 21, 34, 55, 89, 144, 233, 377, 610, 987\n"
      ],
      "metadata": {
        "id": "SJBVkaFHZHKe"
      }
    },
    {
      "cell_type": "code",
      "source": [
        "a = 0\n",
        "b = 1\n",
        "ans =[a,b]\n",
        "\n",
        "for i in range(15):\n",
        "  c = a +b\n",
        "  ans.append(c)\n",
        "  a = b\n",
        "  b = c\n",
        "print(\", \".join(map(str,ans)))"
      ],
      "metadata": {
        "id": "Vdtc9KqSZLls",
        "colab": {
          "base_uri": "https://localhost:8080/"
        },
        "outputId": "d7b7f6fd-5490-4b1c-8087-d0d7d1bef013"
      },
      "execution_count": null,
      "outputs": [
        {
          "output_type": "stream",
          "name": "stdout",
          "text": [
            "0, 1, 1, 2, 3, 5, 8, 13, 21, 34, 55, 89, 144, 233, 377, 610, 987\n"
          ]
        }
      ]
    },
    {
      "cell_type": "markdown",
      "source": [
        "10.\tให้สร้างโปรแกรม True Love โดยรับชื่อภาษาอังกฤษของ 2 คน จากนั้นค้นหาว่ามีตัวอักษรอยู่ในคำว่า True และ Love รวมกันกี่ตัว จากนั้นนำมาต่อกันเป็น % ตามรูป (ไม่ต้องแสดงเครื่องหมาย %)"
      ],
      "metadata": {
        "id": "1ykDG1H4ZKd4"
      }
    },
    {
      "cell_type": "code",
      "source": [],
      "metadata": {
        "id": "syOZPpj2ZPaA"
      },
      "execution_count": null,
      "outputs": []
    }
  ]
}